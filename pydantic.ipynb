{
 "cells": [
  {
   "cell_type": "markdown",
   "metadata": {},
   "source": [
    "### Pydantic "
   ]
  },
  {
   "cell_type": "markdown",
   "metadata": {},
   "source": [
    "The most important library for Data Validations & Parsing \n",
    "\n",
    "Allows `strict typing` by using type annotations."
   ]
  },
  {
   "cell_type": "code",
   "execution_count": 2,
   "metadata": {},
   "outputs": [
    {
     "name": "stdout",
     "output_type": "stream",
     "text": [
      "pydantic version: 2.5.3\n"
     ]
    }
   ],
   "source": [
    "import pydantic \n",
    "\n",
    "print('pydantic version:', pydantic.__version__)"
   ]
  },
  {
   "cell_type": "markdown",
   "metadata": {},
   "source": [
    "1. Data Validation without Pydantic"
   ]
  },
  {
   "cell_type": "code",
   "execution_count": 4,
   "metadata": {},
   "outputs": [
    {
     "name": "stdout",
     "output_type": "stream",
     "text": [
      "Expected id to be an integer, but got str\n"
     ]
    }
   ],
   "source": [
    "class User: \n",
    "    def __init__(self, id: int, name='Jane Doe'):\n",
    "        \n",
    "        if not isinstance(id, int):\n",
    "            raise TypeError(f'Expected id to be an integer, but got {type(id).__name__}')\n",
    "        \n",
    "        if not isinstance(name, str):\n",
    "            raise TypeError(f'Expected name to be a string, but got {type(name).__name__}')\n",
    "        \n",
    "        self.id = id \n",
    "        self.name = name "
   ]
  },
  {
   "cell_type": "code",
   "execution_count": 6,
   "metadata": {},
   "outputs": [
    {
     "name": "stdout",
     "output_type": "stream",
     "text": [
      "Data is valid!\n"
     ]
    }
   ],
   "source": [
    "# case - 1: id is an integer \n",
    "try: \n",
    "    user = User(id=123)\n",
    "    print(\"Data is valid!\")\n",
    "except TypeError as e: \n",
    "    print(e)"
   ]
  },
  {
   "cell_type": "code",
   "execution_count": 7,
   "metadata": {},
   "outputs": [
    {
     "name": "stdout",
     "output_type": "stream",
     "text": [
      "Expected id to be an integer, but got str\n"
     ]
    }
   ],
   "source": [
    "# case - 2: id is an string \n",
    "try: \n",
    "    user = User(id='123')\n",
    "    print(\"Data is valid!\") \n",
    "except TypeError as e:\n",
    "    print(e)"
   ]
  },
  {
   "cell_type": "markdown",
   "metadata": {},
   "source": [
    "#### 2. Data validation with Pydantic "
   ]
  },
  {
   "cell_type": "code",
   "execution_count": 13,
   "metadata": {},
   "outputs": [],
   "source": [
    "from pydantic import BaseModel\n",
    "\n",
    "class User(BaseModel):\n",
    "    id: int \n",
    "    name: str = 'Jane Doe' "
   ]
  },
  {
   "cell_type": "code",
   "execution_count": 14,
   "metadata": {},
   "outputs": [],
   "source": [
    "# case - 1: id is an integer \n",
    "user = User(id=123) "
   ]
  },
  {
   "cell_type": "code",
   "execution_count": 18,
   "metadata": {},
   "outputs": [
    {
     "ename": "ValidationError",
     "evalue": "1 validation error for User\nid\n  Input should be a valid integer, unable to parse string as an integer [type=int_parsing, input_value='dada', input_type=str]\n    For further information visit https://errors.pydantic.dev/2.5/v/int_parsing",
     "output_type": "error",
     "traceback": [
      "\u001b[1;31m---------------------------------------------------------------------------\u001b[0m",
      "\u001b[1;31mValidationError\u001b[0m                           Traceback (most recent call last)",
      "Cell \u001b[1;32mIn[18], line 2\u001b[0m\n\u001b[0;32m      1\u001b[0m \u001b[38;5;66;03m# case - 2: id is an string \u001b[39;00m\n\u001b[1;32m----> 2\u001b[0m user \u001b[38;5;241m=\u001b[39m \u001b[43mUser\u001b[49m\u001b[43m(\u001b[49m\u001b[38;5;28;43mid\u001b[39;49m\u001b[38;5;241;43m=\u001b[39;49m\u001b[38;5;124;43m'\u001b[39;49m\u001b[38;5;124;43mdada\u001b[39;49m\u001b[38;5;124;43m'\u001b[39;49m\u001b[43m)\u001b[49m \n",
      "File \u001b[1;32mc:\\Users\\karth\\anaconda3\\envs\\langchain\\Lib\\site-packages\\pydantic\\main.py:164\u001b[0m, in \u001b[0;36mBaseModel.__init__\u001b[1;34m(__pydantic_self__, **data)\u001b[0m\n\u001b[0;32m    162\u001b[0m \u001b[38;5;66;03m# `__tracebackhide__` tells pytest and some other tools to omit this function from tracebacks\u001b[39;00m\n\u001b[0;32m    163\u001b[0m __tracebackhide__ \u001b[38;5;241m=\u001b[39m \u001b[38;5;28;01mTrue\u001b[39;00m\n\u001b[1;32m--> 164\u001b[0m \u001b[43m__pydantic_self__\u001b[49m\u001b[38;5;241;43m.\u001b[39;49m\u001b[43m__pydantic_validator__\u001b[49m\u001b[38;5;241;43m.\u001b[39;49m\u001b[43mvalidate_python\u001b[49m\u001b[43m(\u001b[49m\u001b[43mdata\u001b[49m\u001b[43m,\u001b[49m\u001b[43m \u001b[49m\u001b[43mself_instance\u001b[49m\u001b[38;5;241;43m=\u001b[39;49m\u001b[43m__pydantic_self__\u001b[49m\u001b[43m)\u001b[49m\n",
      "\u001b[1;31mValidationError\u001b[0m: 1 validation error for User\nid\n  Input should be a valid integer, unable to parse string as an integer [type=int_parsing, input_value='dada', input_type=str]\n    For further information visit https://errors.pydantic.dev/2.5/v/int_parsing"
     ]
    }
   ],
   "source": [
    "# case - 2: id is an string \n",
    "user = User(id='dada') "
   ]
  },
  {
   "cell_type": "code",
   "execution_count": 20,
   "metadata": {},
   "outputs": [],
   "source": [
    "# case - 3: id is an integer but in quotes \n",
    "# ex: '123'\n",
    "user = User(id='123')  \n",
    "\n",
    "# it will automatically converts it into integer if it is an real integer but in str format!\n",
    "# It will parse string as an integer (Pydantic feature)"
   ]
  },
  {
   "cell_type": "code",
   "execution_count": 16,
   "metadata": {},
   "outputs": [
    {
     "data": {
      "text/plain": [
       "1243"
      ]
     },
     "execution_count": 16,
     "metadata": {},
     "output_type": "execute_result"
    }
   ],
   "source": [
    "user.id "
   ]
  },
  {
   "cell_type": "code",
   "execution_count": 17,
   "metadata": {},
   "outputs": [
    {
     "data": {
      "text/plain": [
       "int"
      ]
     },
     "execution_count": 17,
     "metadata": {},
     "output_type": "execute_result"
    }
   ],
   "source": [
    "type(user.id)"
   ]
  },
  {
   "cell_type": "code",
   "execution_count": 21,
   "metadata": {},
   "outputs": [
    {
     "name": "stdout",
     "output_type": "stream",
     "text": [
      "{'id': FieldInfo(annotation=int, required=True), 'name': FieldInfo(annotation=str, required=False, default='Jane Doe')}\n"
     ]
    }
   ],
   "source": [
    "print(user.model_fields)"
   ]
  },
  {
   "cell_type": "code",
   "execution_count": 23,
   "metadata": {},
   "outputs": [
    {
     "name": "stdout",
     "output_type": "stream",
     "text": [
      "{'id'}\n"
     ]
    }
   ],
   "source": [
    "print(user.model_fields_set) \n",
    "# it won't print default values in model field set"
   ]
  },
  {
   "cell_type": "code",
   "execution_count": 25,
   "metadata": {},
   "outputs": [
    {
     "data": {
      "text/plain": [
       "User(id=123, name='karthik')"
      ]
     },
     "execution_count": 25,
     "metadata": {},
     "output_type": "execute_result"
    }
   ],
   "source": [
    "# 2nd object \n",
    "user_2 = User(id=123, name='karthik')\n",
    "\n",
    "user_2"
   ]
  },
  {
   "cell_type": "code",
   "execution_count": 27,
   "metadata": {},
   "outputs": [
    {
     "data": {
      "text/plain": [
       "{'id': 123, 'name': 'karthik'}"
      ]
     },
     "execution_count": 27,
     "metadata": {},
     "output_type": "execute_result"
    }
   ],
   "source": [
    "user_2.model_dump()"
   ]
  },
  {
   "cell_type": "code",
   "execution_count": 28,
   "metadata": {},
   "outputs": [
    {
     "data": {
      "text/plain": [
       "{'id': FieldInfo(annotation=int, required=True),\n",
       " 'name': FieldInfo(annotation=str, required=False, default='Jane Doe')}"
      ]
     },
     "execution_count": 28,
     "metadata": {},
     "output_type": "execute_result"
    }
   ],
   "source": [
    "# model fields \n",
    "user_2.model_fields"
   ]
  },
  {
   "cell_type": "code",
   "execution_count": 29,
   "metadata": {},
   "outputs": [
    {
     "data": {
      "text/plain": [
       "{'id', 'name'}"
      ]
     },
     "execution_count": 29,
     "metadata": {},
     "output_type": "execute_result"
    }
   ],
   "source": [
    "user_2.model_fields_set"
   ]
  },
  {
   "cell_type": "markdown",
   "metadata": {},
   "source": [
    "Converting Data models into data objects"
   ]
  },
  {
   "cell_type": "code",
   "execution_count": 30,
   "metadata": {},
   "outputs": [
    {
     "data": {
      "text/plain": [
       "{'id': 123, 'name': 'karthik'}"
      ]
     },
     "execution_count": 30,
     "metadata": {},
     "output_type": "execute_result"
    }
   ],
   "source": [
    "# dict object \n",
    "user_2.model_dump()"
   ]
  },
  {
   "cell_type": "code",
   "execution_count": 31,
   "metadata": {},
   "outputs": [
    {
     "data": {
      "text/plain": [
       "'{\"id\":123,\"name\":\"karthik\"}'"
      ]
     },
     "execution_count": 31,
     "metadata": {},
     "output_type": "execute_result"
    }
   ],
   "source": [
    "# json object \n",
    "user_2.model_dump_json()"
   ]
  },
  {
   "cell_type": "code",
   "execution_count": 33,
   "metadata": {},
   "outputs": [
    {
     "data": {
      "text/plain": [
       "{'properties': {'id': {'title': 'Id', 'type': 'integer'},\n",
       "  'name': {'default': 'Jane Doe', 'title': 'Name', 'type': 'string'}},\n",
       " 'required': ['id'],\n",
       " 'title': 'User',\n",
       " 'type': 'object'}"
      ]
     },
     "execution_count": 33,
     "metadata": {},
     "output_type": "execute_result"
    }
   ],
   "source": [
    "# json schema \n",
    "user_2.model_json_schema()"
   ]
  },
  {
   "cell_type": "markdown",
   "metadata": {},
   "source": [
    "#### Nested Models "
   ]
  },
  {
   "cell_type": "code",
   "execution_count": 34,
   "metadata": {},
   "outputs": [],
   "source": [
    "from typing import List, Optional \n",
    "from pydantic import BaseModel \n",
    "\n",
    "class Food(BaseModel):\n",
    "    name: str \n",
    "    price: float \n",
    "    ingredients: Optional[List[str]] = None \n",
    "\n",
    "class Restaurant(BaseModel):\n",
    "    name: str \n",
    "    location: str \n",
    "    foods: List[Food] "
   ]
  },
  {
   "cell_type": "code",
   "execution_count": 35,
   "metadata": {},
   "outputs": [],
   "source": [
    "restaurant_instances = Restaurant(name='Tasty Bites', \n",
    "                                  location=\"123, Fifth Avenue\",\n",
    "                                  foods=[\n",
    "                                      {'name': 'Cheese Pizza', 'price': 12.50, 'ingredients':['Cheese', 'Tomato Sauce', 'Flour']},\n",
    "                                      {'name':'Veggie Burger', 'price': 8.99}\n",
    "                                  ])\n"
   ]
  },
  {
   "cell_type": "code",
   "execution_count": 36,
   "metadata": {},
   "outputs": [
    {
     "name": "stdout",
     "output_type": "stream",
     "text": [
      "name='Tasty Bites' location='123, Fifth Avenue' foods=[Food(name='Cheese Pizza', price=12.5, ingredients=['Cheese', 'Tomato Sauce', 'Flour']), Food(name='Veggie Burger', price=8.99, ingredients=None)]\n"
     ]
    }
   ],
   "source": [
    "print(restaurant_instances)"
   ]
  },
  {
   "cell_type": "code",
   "execution_count": 39,
   "metadata": {},
   "outputs": [],
   "source": [
    "obj = restaurant_instances.model_dump()"
   ]
  },
  {
   "cell_type": "code",
   "execution_count": 40,
   "metadata": {},
   "outputs": [
    {
     "data": {
      "text/plain": [
       "{'name': 'Tasty Bites',\n",
       " 'location': '123, Fifth Avenue',\n",
       " 'foods': [{'name': 'Cheese Pizza',\n",
       "   'price': 12.5,\n",
       "   'ingredients': ['Cheese', 'Tomato Sauce', 'Flour']},\n",
       "  {'name': 'Veggie Burger', 'price': 8.99, 'ingredients': None}]}"
      ]
     },
     "execution_count": 40,
     "metadata": {},
     "output_type": "execute_result"
    }
   ],
   "source": [
    "obj "
   ]
  },
  {
   "cell_type": "code",
   "execution_count": 41,
   "metadata": {},
   "outputs": [
    {
     "data": {
      "text/plain": [
       "dict"
      ]
     },
     "execution_count": 41,
     "metadata": {},
     "output_type": "execute_result"
    }
   ],
   "source": [
    "type(obj)"
   ]
  },
  {
   "cell_type": "markdown",
   "metadata": {},
   "source": [
    "### Pydantic for Email Validation"
   ]
  },
  {
   "cell_type": "markdown",
   "metadata": {},
   "source": [
    "for this we need to install pydantic[email] sub-module from pydantic.\n",
    "\n",
    "because it won't come with pydantic module "
   ]
  },
  {
   "cell_type": "code",
   "execution_count": 42,
   "metadata": {},
   "outputs": [
    {
     "name": "stdout",
     "output_type": "stream",
     "text": [
      "Requirement already satisfied: pydantic[email] in c:\\users\\karth\\anaconda3\\envs\\langchain\\lib\\site-packages (2.5.3)\n",
      "Requirement already satisfied: annotated-types>=0.4.0 in c:\\users\\karth\\anaconda3\\envs\\langchain\\lib\\site-packages (from pydantic[email]) (0.6.0)\n",
      "Requirement already satisfied: pydantic-core==2.14.6 in c:\\users\\karth\\anaconda3\\envs\\langchain\\lib\\site-packages (from pydantic[email]) (2.14.6)\n",
      "Requirement already satisfied: typing-extensions>=4.6.1 in c:\\users\\karth\\anaconda3\\envs\\langchain\\lib\\site-packages (from pydantic[email]) (4.9.0)\n",
      "Collecting email-validator>=2.0.0 (from pydantic[email])\n",
      "  Downloading email_validator-2.1.1-py3-none-any.whl.metadata (26 kB)\n",
      "Collecting dnspython>=2.0.0 (from email-validator>=2.0.0->pydantic[email])\n",
      "  Downloading dnspython-2.6.1-py3-none-any.whl.metadata (5.8 kB)\n",
      "Requirement already satisfied: idna>=2.0.0 in c:\\users\\karth\\anaconda3\\envs\\langchain\\lib\\site-packages (from email-validator>=2.0.0->pydantic[email]) (3.6)\n",
      "Downloading email_validator-2.1.1-py3-none-any.whl (30 kB)\n",
      "Downloading dnspython-2.6.1-py3-none-any.whl (307 kB)\n",
      "   ---------------------------------------- 0.0/307.7 kB ? eta -:--:--\n",
      "   ----- ---------------------------------- 41.0/307.7 kB 1.9 MB/s eta 0:00:01\n",
      "   ------------------- -------------------- 153.6/307.7 kB 1.5 MB/s eta 0:00:01\n",
      "   ------------------------------- -------- 245.8/307.7 kB 1.7 MB/s eta 0:00:01\n",
      "   ---------------------------------------  307.2/307.7 kB 1.6 MB/s eta 0:00:01\n",
      "   ---------------------------------------- 307.7/307.7 kB 1.6 MB/s eta 0:00:00\n",
      "Installing collected packages: dnspython, email-validator\n",
      "Successfully installed dnspython-2.6.1 email-validator-2.1.1\n"
     ]
    }
   ],
   "source": [
    "!pip install pydantic[email]"
   ]
  },
  {
   "cell_type": "code",
   "execution_count": 43,
   "metadata": {},
   "outputs": [],
   "source": [
    "from typing import List \n",
    "from pydantic import BaseModel, EmailStr, PositiveInt, conlist, Field, HttpUrl"
   ]
  },
  {
   "cell_type": "code",
   "execution_count": 48,
   "metadata": {},
   "outputs": [],
   "source": [
    "class Address(BaseModel): \n",
    "    street: str \n",
    "    city: str\n",
    "    state: str \n",
    "    zip_code: str \n",
    "\n",
    "class Employee(BaseModel):\n",
    "    name: str \n",
    "    position: str \n",
    "    email: EmailStr\n",
    "\n",
    "class Owner(BaseModel):\n",
    "    name: str \n",
    "    email: EmailStr\n",
    "\n",
    "class Restaurant(BaseModel):\n",
    "    name: str = Field(..., pattern=r\"^[a-zA-Z0-9- ']+$\")\n",
    "    owner: Owner\n",
    "    address: Address\n",
    "    employee: conlist(Employee, min_length=2)\n",
    "    number_of_seats: PositiveInt\n",
    "    delivery: bool \n",
    "    website: HttpUrl "
   ]
  },
  {
   "cell_type": "code",
   "execution_count": 53,
   "metadata": {},
   "outputs": [
    {
     "name": "stdout",
     "output_type": "stream",
     "text": [
      "Data is in valid format!!\n"
     ]
    }
   ],
   "source": [
    "# creating an instance of the Restaurant class\n",
    "restaurant_instance = Restaurant(\n",
    "    name=\"Tasty bites\",\n",
    "    owner={\n",
    "        'name':'John Doe',\n",
    "        'email': 'john.deo@gmail.com'\n",
    "    },\n",
    "    address={\n",
    "        'street': '123, Floor 1, Suite',\n",
    "        'city': 'San Francisco',\n",
    "        'state': 'CA',\n",
    "        'zip_code': '12345'\n",
    "    },\n",
    "    employee=[\n",
    "        {\n",
    "            'name': 'Mike Json',\n",
    "            'position': 'Chef',\n",
    "            'email': 'mike.json@example.com'\n",
    "        },\n",
    "        {\n",
    "            'name':'Shyam sundar',\n",
    "            'position': 'waiter',\n",
    "            'email': 'shyam.sunder@example.com'\n",
    "        }  \n",
    "    ],\n",
    "    number_of_seats=40, \n",
    "    delivery=True, \n",
    "    website=\"http://tastybites.com\"\n",
    ")\n",
    "\n",
    "\n",
    "print(\"Data is in valid format!!\")"
   ]
  },
  {
   "cell_type": "code",
   "execution_count": 54,
   "metadata": {},
   "outputs": [
    {
     "data": {
      "text/plain": [
       "Restaurant(name='Tasty bites', owner=Owner(name='John Doe', email='john.deo@gmail.com'), address=Address(street='123, Floor 1, Suite', city='San Francisco', state='CA', zip_code='12345'), employee=[Employee(name='Mike Json', position='Chef', email='mike.json@example.com'), Employee(name='Shyam sundar', position='waiter', email='shyam.sunder@example.com')], number_of_seats=40, delivery=True, website=Url('http://tastybites.com/'))"
      ]
     },
     "execution_count": 54,
     "metadata": {},
     "output_type": "execute_result"
    }
   ],
   "source": [
    "restaurant_instance"
   ]
  },
  {
   "cell_type": "code",
   "execution_count": 55,
   "metadata": {},
   "outputs": [
    {
     "data": {
      "text/plain": [
       "{'name': 'Tasty bites',\n",
       " 'owner': {'name': 'John Doe', 'email': 'john.deo@gmail.com'},\n",
       " 'address': {'street': '123, Floor 1, Suite',\n",
       "  'city': 'San Francisco',\n",
       "  'state': 'CA',\n",
       "  'zip_code': '12345'},\n",
       " 'employee': [{'name': 'Mike Json',\n",
       "   'position': 'Chef',\n",
       "   'email': 'mike.json@example.com'},\n",
       "  {'name': 'Shyam sundar',\n",
       "   'position': 'waiter',\n",
       "   'email': 'shyam.sunder@example.com'}],\n",
       " 'number_of_seats': 40,\n",
       " 'delivery': True,\n",
       " 'website': Url('http://tastybites.com/')}"
      ]
     },
     "execution_count": 55,
     "metadata": {},
     "output_type": "execute_result"
    }
   ],
   "source": [
    "restaurant_instance.model_dump()"
   ]
  },
  {
   "cell_type": "markdown",
   "metadata": {},
   "source": [
    "### Field Validator"
   ]
  },
  {
   "cell_type": "code",
   "execution_count": 57,
   "metadata": {},
   "outputs": [],
   "source": [
    "from pydantic import BaseModel, field_validator, EmailStr"
   ]
  },
  {
   "cell_type": "code",
   "execution_count": 64,
   "metadata": {},
   "outputs": [],
   "source": [
    "# Our Data schema \n",
    "class Owner(BaseModel):\n",
    "    name: str \n",
    "    email: EmailStr\n",
    "\n",
    "    @field_validator('name')\n",
    "    def name_must_contain_space(cls, v: str) -> str:\n",
    "        if ' ' not in v: \n",
    "            raise ValueError(\"Owner name must contain a space!\") \n",
    "        return v.title() \n",
    "    \n",
    "# we can return what ever we want:  v.upper() "
   ]
  },
  {
   "cell_type": "code",
   "execution_count": 65,
   "metadata": {},
   "outputs": [
    {
     "name": "stdout",
     "output_type": "stream",
     "text": [
      "name='John Dope' email='johndope@email.com'\n"
     ]
    }
   ],
   "source": [
    "try: \n",
    "    owner_instance = Owner(name='john dope', email='johndope@email.com')\n",
    "    print(owner_instance)\n",
    "except ValueError as e:\n",
    "    print(e)"
   ]
  },
  {
   "cell_type": "code",
   "execution_count": 70,
   "metadata": {},
   "outputs": [],
   "source": [
    "a = 10"
   ]
  },
  {
   "cell_type": "code",
   "execution_count": 67,
   "metadata": {},
   "outputs": [
    {
     "data": {
      "text/plain": [
       "int"
      ]
     },
     "execution_count": 67,
     "metadata": {},
     "output_type": "execute_result"
    }
   ],
   "source": [
    "type(a)"
   ]
  },
  {
   "cell_type": "code",
   "execution_count": 68,
   "metadata": {},
   "outputs": [
    {
     "data": {
      "text/plain": [
       "True"
      ]
     },
     "execution_count": 68,
     "metadata": {},
     "output_type": "execute_result"
    }
   ],
   "source": [
    "isinstance(a, int)"
   ]
  },
  {
   "cell_type": "code",
   "execution_count": 69,
   "metadata": {},
   "outputs": [
    {
     "data": {
      "text/plain": [
       "False"
      ]
     },
     "execution_count": 69,
     "metadata": {},
     "output_type": "execute_result"
    }
   ],
   "source": [
    "isinstance(a, str)"
   ]
  },
  {
   "cell_type": "markdown",
   "metadata": {},
   "source": [
    "### Model Validator "
   ]
  },
  {
   "cell_type": "markdown",
   "metadata": {},
   "source": [
    "https://www.youtube.com/watch?v=7aBRk_JP-qY"
   ]
  },
  {
   "cell_type": "code",
   "execution_count": null,
   "metadata": {},
   "outputs": [],
   "source": []
  }
 ],
 "metadata": {
  "kernelspec": {
   "display_name": "langchain",
   "language": "python",
   "name": "python3"
  },
  "language_info": {
   "codemirror_mode": {
    "name": "ipython",
    "version": 3
   },
   "file_extension": ".py",
   "mimetype": "text/x-python",
   "name": "python",
   "nbconvert_exporter": "python",
   "pygments_lexer": "ipython3",
   "version": "3.11.7"
  }
 },
 "nbformat": 4,
 "nbformat_minor": 2
}
